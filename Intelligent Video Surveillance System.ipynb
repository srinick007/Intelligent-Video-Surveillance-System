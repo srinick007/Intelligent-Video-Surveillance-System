{
 "cells": [
  {
   "cell_type": "code",
   "execution_count": 33,
   "id": "19ba6e2c-713d-4d8a-ae42-b81ede5b8df7",
   "metadata": {},
   "outputs": [],
   "source": [
    "# import necessary libraries\n",
    "from inference import get_model\n",
    "import supervision as sv\n",
    "import cv2\n",
    "import winsound  # for playing sound on Windows\n",
    "\n",
    "# function to perform inference on webcam frames\n",
    "def process_webcam_feed():\n",
    "    # load a pre-trained yolov8n model\n",
    "    model = get_model(model_id=\"people-detection-jhhbd/1\")\n",
    "\n",
    "    # create supervision annotators\n",
    "    bounding_box_annotator = sv.BoundingBoxAnnotator()\n",
    "    label_annotator = sv.LabelAnnotator()\n",
    "\n",
    "    # open webcam\n",
    "    cap = cv2.VideoCapture(1)\n",
    "\n",
    "    while True:\n",
    "        # Capture frame-by-frame\n",
    "        ret, frame = cap.read()\n",
    "\n",
    "        # run inference on the frame\n",
    "        results = model.infer(frame)\n",
    "\n",
    "        # load the results into the supervision Detections api\n",
    "        detections = sv.Detections.from_inference(results[0].dict(by_alias=True, exclude_none=True))\n",
    "\n",
    "        # check if 'people detection - v4 2023-11-04 9-25pm' class is detected\n",
    "        for detection in detections:\n",
    "\n",
    "            if detection[5]['class_name'] == 'people detection - v4 2023-11-04 9-25pm':\n",
    "                # Play alarm sound\n",
    "                winsound.PlaySound('alarm.mp3', winsound.SND_ASYNC | winsound.SND_LOOP)\n",
    "                break\n",
    "  \n",
    "        # annotate the frame with inference results\n",
    "        annotated_frame = bounding_box_annotator.annotate(scene=frame, detections=detections)\n",
    "        annotated_frame = label_annotator.annotate(scene=annotated_frame, detections=detections,labels=[\"person\"])\n",
    "\n",
    "        # display the annotated frame\n",
    "        cv2.imshow('Webcam Feed', annotated_frame)\n",
    "\n",
    "        # Press 'q' to exit\n",
    "        if cv2.waitKey(1) & 0xFF == ord('q'):\n",
    "            break\n",
    "\n",
    "    # Release the capture\n",
    "    cap.release()\n",
    "    cv2.destroyAllWindows()\n",
    "\n",
    "# call the function with the specified model\n",
    "process_webcam_feed()\n"
   ]
  },
  {
   "cell_type": "code",
   "execution_count": null,
   "id": "0354375f-0a0f-47d5-9d58-80bf8b2cf31b",
   "metadata": {},
   "outputs": [],
   "source": []
  }
 ],
 "metadata": {
  "kernelspec": {
   "display_name": "Python 3 (ipykernel)",
   "language": "python",
   "name": "python3"
  },
  "language_info": {
   "codemirror_mode": {
    "name": "ipython",
    "version": 3
   },
   "file_extension": ".py",
   "mimetype": "text/x-python",
   "name": "python",
   "nbconvert_exporter": "python",
   "pygments_lexer": "ipython3",
   "version": "3.11.0"
  }
 },
 "nbformat": 4,
 "nbformat_minor": 5
}
